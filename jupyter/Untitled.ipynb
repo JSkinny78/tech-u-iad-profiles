{
 "cells": [
  {
   "cell_type": "code",
   "execution_count": 1,
   "metadata": {},
   "outputs": [
    {
     "data": {
      "text/html": [
       "<div>\n",
       "<style scoped>\n",
       "    .dataframe tbody tr th:only-of-type {\n",
       "        vertical-align: middle;\n",
       "    }\n",
       "\n",
       "    .dataframe tbody tr th {\n",
       "        vertical-align: top;\n",
       "    }\n",
       "\n",
       "    .dataframe thead th {\n",
       "        text-align: right;\n",
       "    }\n",
       "</style>\n",
       "<table border=\"1\" class=\"dataframe\">\n",
       "  <thead>\n",
       "    <tr style=\"text-align: right;\">\n",
       "      <th></th>\n",
       "      <th>Timestamp</th>\n",
       "      <th>Full resolution Phonetool photo</th>\n",
       "      <th>Alias</th>\n",
       "      <th>Certifications</th>\n",
       "      <th>Tech U Projects and Demos</th>\n",
       "      <th>Linkedin URL</th>\n",
       "      <th>Github URL</th>\n",
       "    </tr>\n",
       "  </thead>\n",
       "  <tbody>\n",
       "    <tr>\n",
       "      <th>0</th>\n",
       "      <td>10/22/2019 11:41:34</td>\n",
       "      <td>https://drive.google.com/open?id=1lr3zmtA9jHeC...</td>\n",
       "      <td>joshujia@</td>\n",
       "      <td>AWS Certified Cloud Practitioner</td>\n",
       "      <td>My Very Cool Project or Demo Name : https://s3...</td>\n",
       "      <td>https://linkedin.com/in/josh-jiang-02722776</td>\n",
       "      <td>https://github.com/joshjiang</td>\n",
       "    </tr>\n",
       "  </tbody>\n",
       "</table>\n",
       "</div>"
      ],
      "text/plain": [
       "             Timestamp                    Full resolution Phonetool photo  \\\n",
       "0  10/22/2019 11:41:34  https://drive.google.com/open?id=1lr3zmtA9jHeC...   \n",
       "\n",
       "       Alias                    Certifications  \\\n",
       "0  joshujia@  AWS Certified Cloud Practitioner   \n",
       "\n",
       "                           Tech U Projects and Demos  \\\n",
       "0  My Very Cool Project or Demo Name : https://s3...   \n",
       "\n",
       "                                  Linkedin URL                     Github URL  \n",
       "0  https://linkedin.com/in/josh-jiang-02722776   https://github.com/joshjiang  "
      ]
     },
     "execution_count": 1,
     "metadata": {},
     "output_type": "execute_result"
    }
   ],
   "source": [
    "import pandas as pd\n",
    "pd.read_csv('responses.csv')  "
   ]
  },
  {
   "cell_type": "code",
   "execution_count": null,
   "metadata": {},
   "outputs": [],
   "source": []
  }
 ],
 "metadata": {
  "kernelspec": {
   "display_name": "Python 3",
   "language": "python",
   "name": "python3"
  },
  "language_info": {
   "codemirror_mode": {
    "name": "ipython",
    "version": 3
   },
   "file_extension": ".py",
   "mimetype": "text/x-python",
   "name": "python",
   "nbconvert_exporter": "python",
   "pygments_lexer": "ipython3",
   "version": "3.7.4"
  }
 },
 "nbformat": 4,
 "nbformat_minor": 2
}
